{
 "cells": [
  {
   "cell_type": "markdown",
   "metadata": {},
   "source": [
    "Install fhirclient via 'pip install'"
   ]
  },
  {
   "cell_type": "code",
   "execution_count": 1,
   "metadata": {},
   "outputs": [
    {
     "name": "stdout",
     "output_type": "stream",
     "text": [
      "Requirement already satisfied: fhirclient in c:\\users\\jkcru\\anaconda\\anaconda3\\lib\\site-packages\n",
      "Requirement already satisfied: requests in c:\\users\\jkcru\\anaconda\\anaconda3\\lib\\site-packages (from fhirclient)\n",
      "Requirement already satisfied: isodate in c:\\users\\jkcru\\anaconda\\anaconda3\\lib\\site-packages (from fhirclient)\n",
      "Requirement already satisfied: urllib3<1.22,>=1.21.1 in c:\\users\\jkcru\\anaconda\\anaconda3\\lib\\site-packages (from requests->fhirclient)\n",
      "Requirement already satisfied: chardet<3.1.0,>=3.0.2 in c:\\users\\jkcru\\anaconda\\anaconda3\\lib\\site-packages (from requests->fhirclient)\n",
      "Requirement already satisfied: idna<2.6,>=2.5 in c:\\users\\jkcru\\anaconda\\anaconda3\\lib\\site-packages (from requests->fhirclient)\n",
      "Requirement already satisfied: certifi>=2017.4.17 in c:\\users\\jkcru\\anaconda\\anaconda3\\lib\\site-packages (from requests->fhirclient)\n"
     ]
    }
   ],
   "source": [
    "!pip install fhirclient"
   ]
  },
  {
   "cell_type": "markdown",
   "metadata": {},
   "source": [
    "Import the packages that will be needed to find the relevant information "
   ]
  },
  {
   "cell_type": "code",
   "execution_count": 1,
   "metadata": {
    "collapsed": true
   },
   "outputs": [],
   "source": [
    "from fhirclient import client\n",
    "import fhirclient.models.patient as p\n",
    "import fhirclient.models.observation as obs\n",
    "import fhirclient.models.condition as cond"
   ]
  },
  {
   "cell_type": "markdown",
   "metadata": {},
   "source": [
    "Below sets up a 'client' so that we can access the HAPI server. The variable 'smart'"
   ]
  },
  {
   "cell_type": "code",
   "execution_count": 2,
   "metadata": {
    "collapsed": true
   },
   "outputs": [],
   "source": [
    "settings = {\n",
    "    'app_id': 'my_web_app',\n",
    "    'api_base': 'https://fhirtest.uhn.ca/baseDstu3'\n",
    "}\n",
    "smart = client.FHIRClient(settings=settings)"
   ]
  },
  {
   "cell_type": "markdown",
   "metadata": {},
   "source": [
    "Here's the documentation on with examples on the python code:\n",
    "https://github.com/smart-on-fhir/client-py"
   ]
  },
  {
   "cell_type": "code",
   "execution_count": null,
   "metadata": {
    "collapsed": true
   },
   "outputs": [],
   "source": []
  }
 ],
 "metadata": {
  "anaconda-cloud": {},
  "kernelspec": {
   "display_name": "Python [conda root]",
   "language": "python",
   "name": "conda-root-py"
  },
  "language_info": {
   "codemirror_mode": {
    "name": "ipython",
    "version": 3
   },
   "file_extension": ".py",
   "mimetype": "text/x-python",
   "name": "python",
   "nbconvert_exporter": "python",
   "pygments_lexer": "ipython3",
   "version": "3.5.3"
  }
 },
 "nbformat": 4,
 "nbformat_minor": 1
}
