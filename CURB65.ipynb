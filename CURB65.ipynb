{
 "cells": [
  {
   "cell_type": "markdown",
   "metadata": {},
   "source": [
    "As an ER physician, I want to determine if a patient with signs and symptoms of pneumonia should be admitted to the hospital or should receive outpatient treatment. I will support my decision using a clinical calculators known as CURB65 (https://www.mdcalc.com/curb-65-score-pneumonia-severity)\n",
    "\n",
    "One of the main advantages of having patient information in electronic format, is that we, as clinician don't need to capture patient information more than one time. For this assignment we want to develop an application that can retrieve patient information from a EHR sandbox and calculate patient’s clinical risk\n",
    "\n",
    "Step 1 - Define a clinical scenario with required data elements for the case: (Patient Age, last Glasgow Coma Scale, BUN in mg/dL, Respiratory Rate and Blood Pressure)\n",
    "\n",
    "Step 2 - Identify FHIR Resources to support use case data = http://hl7.org/fhir/resourcelist.html Patient Age - http://hl7.org/fhir/patient.html Patient.birthDate minus today's date Patient Gender - Patient.contact.gender BUN in mg/dL - Observation resource - http://www.hl7.org/fhir/diagnosticreport-example-lipids.html\n",
    "Blood Pressure - Observation resource - http://hl7.org/fhir/observation-vitalsigns.html\n",
    "    http://www.hl7.org/fhir/observation-example-bloodpressure.html\n",
    "Diabetes - Condition resource - http://hl7.org/fhir/condition.html\n",
    "\n",
    "Step 3 - Identify data elements within each FHIR Resource definition necessary to support use case data\n"
   ]
  },
  {
   "cell_type": "code",
   "execution_count": 1,
   "metadata": {},
   "outputs": [
    {
     "name": "stdout",
     "output_type": "stream",
     "text": [
      "Requirement already satisfied: fhirclient in c:\\users\\d2\\anaconda3\\lib\\site-packages\n",
      "Requirement already satisfied: requests in c:\\users\\d2\\anaconda3\\lib\\site-packages (from fhirclient)\n",
      "Requirement already satisfied: isodate in c:\\users\\d2\\anaconda3\\lib\\site-packages (from fhirclient)\n",
      "Collecting https://pypi.python.org/packages/source/P/PyMedTermino/PyMedTermino-0.3.2.tar.bz2\n",
      "  Using cached PyMedTermino-0.3.2.tar.bz2\n",
      "  Requirement already satisfied (use --upgrade to upgrade): PyMedTermino==0.3.2 from https://pypi.python.org/packages/source/P/PyMedTermino/PyMedTermino-0.3.2.tar.bz2 in c:\\users\\d2\\anaconda3\\lib\\site-packages\n",
      "Building wheels for collected packages: PyMedTermino\n",
      "  Running setup.py bdist_wheel for PyMedTermino: started\n",
      "  Running setup.py bdist_wheel for PyMedTermino: finished with status 'done'\n",
      "  Stored in directory: C:\\Users\\d2\\AppData\\Local\\pip\\Cache\\wheels\\16\\92\\ed\\3636ac16455eea238ed4bcb987edd68840bfa1dbb72c852959\n",
      "Successfully built PyMedTermino\n"
     ]
    }
   ],
   "source": [
    "!pip install fhirclient\n",
    "!pip install https://pypi.python.org/packages/source/P/PyMedTermino/PyMedTermino-0.3.2.tar.bz2"
   ]
  },
  {
   "cell_type": "code",
   "execution_count": 1,
   "metadata": {},
   "outputs": [
    {
     "name": "stdout",
     "output_type": "stream",
     "text": [
      "Patient's Name =  Curb Old\n",
      "Gender =  male\n",
      "DOB =  1921-06-08\n",
      "Today's Date =  2017-07-11 12:35:19.367874\n",
      "Patient's age =  96\n"
     ]
    }
   ],
   "source": [
    "from fhirclient import client\n",
    "import datetime\n",
    "from datetime import timedelta\n",
    "from datetime import date\n",
    "from dateutil.relativedelta import relativedelta\n",
    "\n",
    "# Define the FHIR Endpoint\n",
    "settings = {\n",
    "    'app_id': 'my_web_app',\n",
    "    'api_base': 'https://fhirtest.uhn.ca/baseDstu3'\n",
    "}\n",
    "smart = client.FHIRClient(settings=settings)\n",
    "\n",
    "# Perform a GET on patient with id of 'cf-1499698397063'\n",
    "import fhirclient.models.patient as p\n",
    "patient = p.Patient.read('cf-1499698397063', smart.server)\n",
    "\n",
    "# Print the first (i.e. [0] element in the patient.name\n",
    "print ('Patient\\'s Name = ',patient.name[0].given[0],patient.name[0].family)\n",
    "\n",
    "# Define variable DOB as the patient's date of birth in a string format\n",
    "DOB = patient.birthDate.isostring\n",
    "\n",
    "# Print patient's gender\n",
    "gender = patient.gender\n",
    "print ('Gender = ',gender)\n",
    "\n",
    "# Print the patient's date of birth\n",
    "print ('DOB = ', DOB)\n",
    "\n",
    "# Define and print today variable\n",
    "now = datetime.datetime.today()\n",
    "\n",
    "print ('Today\\'s Date = ', now)\n",
    "\n",
    "#Define DOB2 date object\n",
    "DOB2 = datetime.datetime.strptime(DOB, '%Y-%m-%d')\n",
    "\n",
    "# Calcuate patient's age using rdelta method of the dateutil module\n",
    "rdelta = relativedelta(now, DOB2)\n",
    "age = rdelta.years\n",
    "# print the years from the rdelta object\n",
    "print ('Patient\\'s age = ',age)"
   ]
  },
  {
   "cell_type": "code",
   "execution_count": 4,
   "metadata": {},
   "outputs": [
    {
     "name": "stdout",
     "output_type": "stream",
     "text": [
      "This patient experiences confusion\n"
     ]
    }
   ],
   "source": [
    "# Confusion - GCS Observation.category - Exam\n",
    "import fhirclient.models.observation as obs\n",
    "search = obs.Observation.where(struct={'patient':\"cf-1499698397063\",'code':\"9269-2\"})\n",
    "Glasgow_coma_score_total = search.perform_resources(smart.server)\n",
    "Glasgow_flag = False\n",
    "if Glasgow_coma_score_total:\n",
    "    #GCS_val = LDL[0].valueQuantity.value\n",
    "    #print(str(GCS_val) + \" \" + GCS[0].valueQuantity.unit)\n",
    "    Glasgow_flag = True\n",
    "    print(\"This patient experiences confusion\")\n",
    "\n"
   ]
  },
  {
   "cell_type": "code",
   "execution_count": 17,
   "metadata": {},
   "outputs": [
    {
     "name": "stdout",
     "output_type": "stream",
     "text": [
      "20\n"
     ]
    }
   ],
   "source": [
    "# BUN\n",
    "search = obs.Observation.where(struct={'patient':\"cf-1499698397063\",'code':\"LP14288-2\"})\n",
    "BUN = search.perform_resources(smart.server)\n",
    "if BUN:\n",
    "    BUN_value = BUN[0].valueQuantity.value\n",
    "    BUN_units = BUN[0].valueQuantity.unit\n",
    "print(BUN_value)"
   ]
  },
  {
   "cell_type": "code",
   "execution_count": 8,
   "metadata": {},
   "outputs": [
    {
     "data": {
      "text/plain": [
       "124"
      ]
     },
     "execution_count": 8,
     "metadata": {},
     "output_type": "execute_result"
    }
   ],
   "source": [
    "# SBP\n",
    "search = obs.Observation.where(struct={'patient':\"cf-1499698397063\",'code':\"8480-6\"})\n",
    "SBP = search.perform_resources(smart.server)\n",
    "if SBP:\n",
    "    SBP_value = SBP[0].valueQuantity.value\n",
    "SBP_value"
   ]
  },
  {
   "cell_type": "code",
   "execution_count": 9,
   "metadata": {},
   "outputs": [
    {
     "data": {
      "text/plain": [
       "90"
      ]
     },
     "execution_count": 9,
     "metadata": {},
     "output_type": "execute_result"
    }
   ],
   "source": [
    "# DBP\n",
    "search = obs.Observation.where(struct={'patient':\"cf-1499698397063\",'code':\"8462-4\"})\n",
    "DBP = search.perform_resources(smart.server)\n",
    "if DBP:\n",
    "    DBP_value = DBP[0].valueQuantity.value\n",
    "DBP_value\n"
   ]
  },
  {
   "cell_type": "code",
   "execution_count": 12,
   "metadata": {},
   "outputs": [
    {
     "data": {
      "text/plain": [
       "24"
      ]
     },
     "execution_count": 12,
     "metadata": {},
     "output_type": "execute_result"
    }
   ],
   "source": [
    "# Resp Rate\n",
    "search = obs.Observation.where(struct={'patient':\"cf-1499698397063\",'code':\"9279-1\"})\n",
    "Resp = search.perform_resources(smart.server)\n",
    "if Resp:\n",
    "    Resp_value = Resp[0].valueQuantity.value\n",
    "Resp_value\n"
   ]
  },
  {
   "cell_type": "code",
   "execution_count": 16,
   "metadata": {},
   "outputs": [
    {
     "data": {
      "text/plain": [
       "3"
      ]
     },
     "execution_count": 16,
     "metadata": {},
     "output_type": "execute_result"
    }
   ],
   "source": [
    "total = 0\n",
    "if Glasgow_flag:\n",
    "    total += 1\n",
    "if BUN_units[0:2]=='mg':\n",
    "    if BUN_value > 19:\n",
    "        total += 1\n",
    "if BUN_units[0:2]=='mm':\n",
    "    if BUN_value > 7:\n",
    "        total += 1\n",
    "if Resp_value >= 30:\n",
    "    total += 1\n",
    "if SBP_value < 90 or DBP_value <= 60:\n",
    "    total += 1\n",
    "if age >= 65:\n",
    "    total += 1\n",
    "total"
   ]
  },
  {
   "cell_type": "code",
   "execution_count": 18,
   "metadata": {},
   "outputs": [
    {
     "name": "stdout",
     "output_type": "stream",
     "text": [
      "14.0% 30 day mortality\n"
     ]
    }
   ],
   "source": [
    "results_dict = {0:0.6,1:2.7,2:6.8,3:14.0,4:27.8,5:27.8}\n",
    "percent = results_dict[total]\n",
    "print (str(percent)+'% 30-day mortality')"
   ]
  },
  {
   "cell_type": "code",
   "execution_count": null,
   "metadata": {
    "collapsed": true
   },
   "outputs": [],
   "source": []
  }
 ],
 "metadata": {
  "kernelspec": {
   "display_name": "Python [default]",
   "language": "python",
   "name": "python3"
  },
  "language_info": {
   "codemirror_mode": {
    "name": "ipython",
    "version": 3
   },
   "file_extension": ".py",
   "mimetype": "text/x-python",
   "name": "python",
   "nbconvert_exporter": "python",
   "pygments_lexer": "ipython3",
   "version": "3.5.3"
  }
 },
 "nbformat": 4,
 "nbformat_minor": 2
}
