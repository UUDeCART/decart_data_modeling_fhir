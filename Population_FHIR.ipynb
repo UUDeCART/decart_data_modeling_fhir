{
 "cells": [
  {
   "cell_type": "markdown",
   "metadata": {},
   "source": [
    "# Population Management\n",
    "\n",
    "### Here we'll collect information about patients with hypertension and group them into age groups"
   ]
  },
  {
   "cell_type": "code",
   "execution_count": 2,
   "metadata": {
    "collapsed": true
   },
   "outputs": [],
   "source": [
    "import json\n",
    "import requests"
   ]
  },
  {
   "cell_type": "markdown",
   "metadata": {},
   "source": [
    "### The first thing to do is to look at the data. Check out the URL below to see what we're working with\n",
    "https://api3.hspconsortium.org/HSPCplusSynthea/open/Condition?code=38341003&_count=50"
   ]
  },
  {
   "cell_type": "markdown",
   "metadata": {},
   "source": [
    "Pull the first 50 cases of hypertension and get the total number of cases"
   ]
  },
  {
   "cell_type": "code",
   "execution_count": 57,
   "metadata": {},
   "outputs": [
    {
     "data": {
      "text/plain": [
       "4340"
      ]
     },
     "execution_count": 57,
     "metadata": {},
     "output_type": "execute_result"
    }
   ],
   "source": [
    "response = requests.get(\"https://api3.hspconsortium.org/HSPCplusSynthea/open/Condition?code=38341003&_count=50\")\n",
    "# The _count parameter is set to it's max of 50, meaning the url will give us 50 results at a time\n",
    "json_data = json.loads(response.text)\n",
    "total = json_data[\"total\"]\n",
    "total  #Shows how many instances of hypertension exist in the server\n"
   ]
  },
  {
   "cell_type": "markdown",
   "metadata": {},
   "source": [
    "Want to pull the Patient package from fhirclient and initialize the lists that will be used to group the age groups"
   ]
  },
  {
   "cell_type": "code",
   "execution_count": 4,
   "metadata": {
    "collapsed": true
   },
   "outputs": [],
   "source": [
    "import fhirclient.models.patient as p\n",
    "import datetime\n",
    "from dateutil.relativedelta import relativedelta\n",
    "\n",
    "male_to20 = []\n",
    "male_20to40 = []\n",
    "male_40to60 = []\n",
    "male_60to70 = []\n",
    "male_70to80 = []\n",
    "male_80toBeyond = []\n",
    "female_to20 = []\n",
    "female_20to40 = [] \n",
    "female_40to60 = []\n",
    "female_60to70 = []\n",
    "female_70to80 = []\n",
    "female_80toBeyond = []\n"
   ]
  },
  {
   "cell_type": "code",
   "execution_count": 5,
   "metadata": {},
   "outputs": [],
   "source": [
    "count = 0  #Once you hit \"total\", the loop will stop\n",
    "now = datetime.datetime.today()\n",
    "while count < total:\n",
    "    json_data = json.loads(response.text)\n",
    "    entries = json_data[\"entry\"]  #list of condition results\n",
    "    next_url = json_data[\"link\"][1]['url'] #link to the next 50 entries\n",
    "    response = requests.get(next_url)\n",
    "    for h in entries:\n",
    "        count += 1\n",
    "        patient_id = h['resource']['subject']['reference'].split('/')[1] #Need to only have the number, not the 'Patient/' part\n",
    "        patient = p.Patient.read(patient_id, smart.server)\n",
    "        DOB = patient.birthDate.isostring\n",
    "        DOB2 = datetime.datetime.strptime(DOB, '%Y-%m-%d')\n",
    "        rdelta = relativedelta(now, DOB2)\n",
    "        age = rdelta.years\n",
    "        if patient.gender == \"male\":\n",
    "            if age < 20:\n",
    "                male_to20.append(h)\n",
    "            if age >= 20 and age < 40:\n",
    "                male_20to40.append(h)\n",
    "            if age >= 40 and age < 60:\n",
    "                male_40to60.append(h)\n",
    "            if age >= 60 and age < 70:\n",
    "                male_60to70.append(h)\n",
    "            if age >= 70 and age < 80:\n",
    "                male_70to80.append(h)\n",
    "            if age >= 80:\n",
    "                male_80toBeyond.append(h)\n",
    "\n",
    "        if patient.gender == \"female\":\n",
    "            if age < 20:\n",
    "                female_to20.append(h)\n",
    "            if age >= 20 and age < 40:\n",
    "                female_20to40.append(h)\n",
    "            if age >= 40 and age < 60:\n",
    "                female_40to60.append(h)\n",
    "            if age >= 60 and age < 70:\n",
    "                female_60to70.append(h)\n",
    "            if age >= 70 and age < 80:\n",
    "                female_70to80.append(h)\n",
    "            if age >= 80:\n",
    "                female_80toBeyond.append(h)\n"
   ]
  },
  {
   "cell_type": "code",
   "execution_count": 6,
   "metadata": {},
   "outputs": [
    {
     "name": "stdout",
     "output_type": "stream",
     "text": [
      "134\n",
      "605\n",
      "589\n",
      "324\n",
      "277\n",
      "364\n"
     ]
    }
   ],
   "source": [
    "print(len(male_to20))\n",
    "print(len(male_20to40))\n",
    "print(len(male_40to60))\n",
    "print(len(male_60to70))\n",
    "print(len(male_70to80))\n",
    "print(len(male_80toBeyond))"
   ]
  },
  {
   "cell_type": "code",
   "execution_count": 7,
   "metadata": {},
   "outputs": [
    {
     "name": "stdout",
     "output_type": "stream",
     "text": [
      "12\n",
      "552\n",
      "620\n",
      "277\n",
      "257\n",
      "329\n"
     ]
    }
   ],
   "source": [
    "print(len(female_to20))\n",
    "print(len(female_20to40))\n",
    "print(len(female_40to60))\n",
    "print(len(female_60to70))\n",
    "print(len(female_70to80))\n",
    "print(len(female_80toBeyond))"
   ]
  },
  {
   "cell_type": "markdown",
   "metadata": {
    "collapsed": true
   },
   "source": [
    "# Type 2 Diabetes"
   ]
  },
  {
   "cell_type": "code",
   "execution_count": 43,
   "metadata": {},
   "outputs": [
    {
     "data": {
      "text/plain": [
       "1917"
      ]
     },
     "execution_count": 43,
     "metadata": {},
     "output_type": "execute_result"
    }
   ],
   "source": [
    "response = requests.get(\"https://api3.hspconsortium.org/HSPCplusSynthea/open/Condition?code=44054006&_count=50\")\n",
    "# The _count parameter is set to it's max of 50, meaning the url will give us 50 results at a time\n",
    "json_data = json.loads(response.text)\n",
    "total_all = json_data[\"total\"]\n",
    "total_all  #Shows how many instances of hypertension exist in the server"
   ]
  },
  {
   "cell_type": "code",
   "execution_count": 44,
   "metadata": {
    "collapsed": true
   },
   "outputs": [],
   "source": [
    "high_a1c = []\n",
    "other = []\n",
    "unknown = []"
   ]
  },
  {
   "cell_type": "markdown",
   "metadata": {},
   "source": [
    "The code below works, it just takes a really long time. "
   ]
  },
  {
   "cell_type": "code",
   "execution_count": null,
   "metadata": {},
   "outputs": [],
   "source": [
    "count = 0\n",
    "while count < total_all:\n",
    "    json_data = json.loads(response.text)\n",
    "    entries = json_data[\"entry\"]  #list of condition results\n",
    "    next_url = json_data[\"link\"][1]['url'] #link to the next 50 entries\n",
    "    response = requests.get(next_url)\n",
    "    for h in entries:\n",
    "        count += 1\n",
    "        patient_id = h['resource']['subject']['reference'].split('/')[1]\n",
    "        a1c_data = requests.get(\"https://api3.hspconsortium.org/HSPCplusSynthea/open/Observation?patient=Patient/\" \\\n",
    "                                +str(patient_id)+\"&code=4548-4\")\n",
    "        a1c_data = json.loads(a1c_data.text)\n",
    "        total = a1c_data[\"total\"]\n",
    "        if total != 0:\n",
    "            a1c = a1c_data[\"entry\"][0][\"resource\"][\"valueQuantity\"][\"value\"]\n",
    "            if a1c >= 8:\n",
    "                high_a1c.append(patient_id)\n",
    "            else:\n",
    "                other.append(patient_id)\n",
    "        else:\n",
    "            unknown.append(patient_id)\n",
    "                "
   ]
  },
  {
   "cell_type": "code",
   "execution_count": 47,
   "metadata": {},
   "outputs": [
    {
     "name": "stdout",
     "output_type": "stream",
     "text": [
      "0\n",
      "434\n",
      "159\n",
      "1917\n"
     ]
    }
   ],
   "source": [
    "print(len(high_a1c))\n",
    "print(len(other))\n",
    "print(len(unknown))\n",
    "print(total_all)"
   ]
  },
  {
   "cell_type": "code",
   "execution_count": null,
   "metadata": {
    "collapsed": true
   },
   "outputs": [],
   "source": []
  }
 ],
 "metadata": {
  "anaconda-cloud": {},
  "kernelspec": {
   "display_name": "Python [conda root]",
   "language": "python",
   "name": "conda-root-py"
  },
  "language_info": {
   "codemirror_mode": {
    "name": "ipython",
    "version": 3
   },
   "file_extension": ".py",
   "mimetype": "text/x-python",
   "name": "python",
   "nbconvert_exporter": "python",
   "pygments_lexer": "ipython3",
   "version": "3.5.3"
  }
 },
 "nbformat": 4,
 "nbformat_minor": 1
}
